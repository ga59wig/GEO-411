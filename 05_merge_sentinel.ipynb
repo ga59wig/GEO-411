{
 "cells": [
  {
   "cell_type": "code",
   "execution_count": 2,
   "id": "e1041601",
   "metadata": {},
   "outputs": [],
   "source": [
    "from rasterio.plot import show\n",
    "from rasterio.merge import merge\n",
    "import rasterio as rio\n",
    "from rasterio import features\n",
    "import rioxarray\n",
    "\n",
    "from pathlib import Path\n",
    "import glob\n",
    "import xarray as xr\n",
    "import pandas as pd\n",
    "import matplotlib.pyplot as plt\n",
    "import numpy as np\n",
    "import geopandas as gpd\n",
    "from osgeo import gdal\n",
    "import os"
   ]
  },
  {
   "cell_type": "code",
   "execution_count": 3,
   "id": "49129994",
   "metadata": {},
   "outputs": [],
   "source": [
    "path = r'C:/Uni Jena/GEO 411/Data/Sentinel-2/NDWI_20m_arbeitsgebiete/'\n",
    "Path(path + 'Thueringen').mkdir(parents=True, exist_ok=True)\n",
    "output_path = path + 'Thueringen'\n",
    "Path(path + 'Unterfranken').mkdir(parents=True, exist_ok=True)\n",
    "output_path_unt = path + 'Unterfranken'\n",
    "\n",
    "path_ndvi = r'C:/Uni Jena/GEO 411/Data/Sentinel-2/NDVI_20m_arbeitsgebiete/'\n",
    "Path(path_ndvi + 'Thueringen').mkdir(parents=True, exist_ok=True)\n",
    "output_path_ndvi = path_ndvi + 'Thueringen'\n",
    "Path(path_ndvi + 'Unterfranken').mkdir(parents=True, exist_ok=True)\n",
    "output_path_unt_ndvi = path_ndvi + 'Unterfranken'"
   ]
  },
  {
   "cell_type": "code",
   "execution_count": null,
   "id": "1a6b8f22",
   "metadata": {},
   "outputs": [],
   "source": []
  },
  {
   "cell_type": "code",
   "execution_count": 4,
   "id": "0b5c54f2",
   "metadata": {},
   "outputs": [],
   "source": [
    "def get_all_paths(path, ort):\n",
    "    filepath_list1 = [i.split('\\\\')[1] for i in glob.glob(path + ort+\"_1/\" +\"*.tiff\")]\n",
    "    filepath_list2 = [i.split('\\\\')[1] for i in glob.glob(path + ort+\"_2/\" +\"*.tiff\")]\n",
    "    filepath_list3 = [i.split('\\\\')[1] for i in glob.glob(path + ort+\"_3/\" +\"*.tiff\")]\n",
    "    filepath_list4 = [i.split('\\\\')[1] for i in glob.glob(path + ort+\"_4/\" +\"*.tiff\")]\n",
    "    filepath_concat = filepath_list1+filepath_list2+filepath_list3+filepath_list4\n",
    "    return filepath_concat"
   ]
  },
  {
   "cell_type": "code",
   "execution_count": 5,
   "id": "40299310",
   "metadata": {},
   "outputs": [],
   "source": [
    "filepath_concat = get_all_paths(path=path, ort=\"Thueringen\")\n",
    "filepath_concat_u = get_all_paths(path=path, ort=\"Unterfranken\")\n",
    "filepath_concat_ndvi = get_all_paths(path=path_ndvi, ort=\"Thueringen\")\n",
    "filepath_concat_u_ndvi = get_all_paths(path=path_ndvi, ort=\"Unterfranken\")"
   ]
  },
  {
   "cell_type": "code",
   "execution_count": 6,
   "id": "7ea07ba0",
   "metadata": {},
   "outputs": [],
   "source": [
    "def get_unique_filepaths(filepath_concat):\n",
    "    filepath_list = list()\n",
    "\n",
    "    for item in filepath_concat:\n",
    "        if item not in filepath_list:\n",
    "            filepath_list.append(item)\n",
    "    return filepath_list"
   ]
  },
  {
   "cell_type": "code",
   "execution_count": 7,
   "id": "c993e514",
   "metadata": {},
   "outputs": [],
   "source": [
    "filepath_list = get_unique_filepaths(filepath_concat=filepath_concat)\n",
    "filepath_list_u = get_unique_filepaths(filepath_concat=filepath_concat_u)\n",
    "filepath_list_ndvi = get_unique_filepaths(filepath_concat=filepath_concat_ndvi)\n",
    "filepath_list_u_ndvi = get_unique_filepaths(filepath_concat=filepath_concat_u_ndvi)"
   ]
  },
  {
   "cell_type": "code",
   "execution_count": null,
   "id": "1e844256",
   "metadata": {},
   "outputs": [],
   "source": []
  },
  {
   "cell_type": "code",
   "execution_count": 8,
   "id": "53b58b6a",
   "metadata": {},
   "outputs": [],
   "source": [
    "def get_merge_list(filepath_list, path, ort):\n",
    "    liste = []\n",
    "    for i in range(len(filepath_list)):\n",
    "        liste_da = []\n",
    "        if os.path.isfile(path + ort+\"_1/\" + filepath_list[i]):\n",
    "            da1 = path + ort+\"_1/\" + filepath_list[i]\n",
    "            liste_da.append(da1)\n",
    "        if os.path.isfile(path + ort+\"_2/\" + filepath_list[i]):\n",
    "            da2 = path + ort+\"_2/\" + filepath_list[i]\n",
    "            liste_da.append(da2)\n",
    "        if os.path.isfile(path + ort+\"_3/\" + filepath_list[i]):\n",
    "            da3 = path + ort+\"_3/\" + filepath_list[i]\n",
    "            liste_da.append(da3)\n",
    "        if os.path.isfile(path + ort+\"_4/\" + filepath_list[i]):\n",
    "            da4 = path + ort+\"_4/\" + filepath_list[i]\n",
    "            liste_da.append(da4)\n",
    "        liste.append(liste_da)\n",
    "    return liste"
   ]
  },
  {
   "cell_type": "code",
   "execution_count": 9,
   "id": "4396428f",
   "metadata": {},
   "outputs": [],
   "source": [
    "liste_da_all = get_merge_list(filepath_list=filepath_list, path=path, ort=\"Thueringen\")\n",
    "liste_da_all_u = get_merge_list(filepath_list=filepath_list_u, path=path, ort=\"Unterfranken\")\n",
    "liste_da_all_ndvi = get_merge_list(filepath_list=filepath_list_ndvi, path=path_ndvi, ort=\"Thueringen\")\n",
    "liste_da_all_u_ndvi = get_merge_list(filepath_list=filepath_list_u_ndvi, path=path_ndvi, ort=\"Unterfranken\")"
   ]
  },
  {
   "cell_type": "code",
   "execution_count": 10,
   "id": "0e1fcfe7",
   "metadata": {},
   "outputs": [],
   "source": [
    "def merge_tiff(liste_da_all, output_path):\n",
    "    for i in range(len(liste_da_all)):\n",
    "        g = gdal.Warp(output_path+\"/\"+liste_da_all[i][0][-18:], liste_da_all[i], format=\"GTiff\",\n",
    "                          options=[\"COMPRESS=LZW\", \"TILED=YES\"]) # if you want\n",
    "        g = None # Close file and flush to disk"
   ]
  },
  {
   "cell_type": "code",
   "execution_count": 11,
   "id": "a52b790f",
   "metadata": {},
   "outputs": [],
   "source": [
    "#NDWI Thueringen 20m\n",
    "merge_tiff(liste_da_all=liste_da_all, output_path=output_path)"
   ]
  },
  {
   "cell_type": "code",
   "execution_count": 187,
   "id": "96af184d",
   "metadata": {},
   "outputs": [],
   "source": [
    "#NDWI Unterfranken 20m\n",
    "merge_tiff(liste_da_all=liste_da_all_u, output_path=output_path_unt)"
   ]
  },
  {
   "cell_type": "code",
   "execution_count": 188,
   "id": "7b442e1e",
   "metadata": {},
   "outputs": [],
   "source": [
    "#NDVI Thueringen 20m\n",
    "merge_tiff(liste_da_all=liste_da_all_ndvi, output_path=output_path_ndvi)"
   ]
  },
  {
   "cell_type": "code",
   "execution_count": 189,
   "id": "0c1de2ef",
   "metadata": {},
   "outputs": [],
   "source": [
    "#NDVI Unterfranken 20m\n",
    "merge_tiff(liste_da_all=liste_da_all_u_ndvi, output_path=output_path_unt_ndvi)"
   ]
  },
  {
   "cell_type": "code",
   "execution_count": null,
   "id": "e098a5b8",
   "metadata": {},
   "outputs": [],
   "source": []
  }
 ],
 "metadata": {
  "kernelspec": {
   "display_name": "Python 3 (ipykernel)",
   "language": "python",
   "name": "python3"
  },
  "language_info": {
   "codemirror_mode": {
    "name": "ipython",
    "version": 3
   },
   "file_extension": ".py",
   "mimetype": "text/x-python",
   "name": "python",
   "nbconvert_exporter": "python",
   "pygments_lexer": "ipython3",
   "version": "3.9.16"
  }
 },
 "nbformat": 4,
 "nbformat_minor": 5
}
