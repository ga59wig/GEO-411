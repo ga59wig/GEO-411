{
 "cells": [
  {
   "cell_type": "code",
   "execution_count": 6,
   "id": "fb00f9c5",
   "metadata": {},
   "outputs": [],
   "source": [
    "# clip raster by shapefile\n",
    "import rasterio\n",
    "from rasterio.mask import mask\n",
    "import geopandas as gpd\n",
    "\n",
    "inshp = 'C:/Uni Jena/GEO 411/Data/Unterfranken.shp'\n",
    "inRas = 'C:/Uni Jena/GEO 411/Data/DGM/Unterfranken/TIF/merged_result.tif'\n",
    "outRas = 'C:/Uni Jena/GEO 411/Data/DGM/Unterfranken/TIF/merged_result_clipped_on_Arbeitsgebiet.tif'\n",
    "\n",
    "#def clip_raster (inshp, inRas, outRas):\n",
    "Vector=gpd.read_file(inshp)\n",
    "\n",
    "Vector=Vector[Vector['Name']=='Unterfranken'] # Subsetting to my AOI\n",
    "\n"
   ]
  },
  {
   "cell_type": "code",
   "execution_count": null,
   "id": "907f4acf",
   "metadata": {},
   "outputs": [],
   "source": []
  },
  {
   "cell_type": "code",
   "execution_count": 10,
   "id": "c170c2b7",
   "metadata": {},
   "outputs": [],
   "source": [
    "with rasterio.open(inRas) as src:\n",
    "    Vector=Vector.to_crs('epsg:25832')\n",
    "    # print(Vector.crs)\n",
    "    out_image, out_transform=mask(src,Vector.geometry,crop=True)\n",
    "    out_meta=src.meta.copy() # copy the metadata of the source DEM\n",
    "\n",
    "out_meta.update({\n",
    "    \"driver\":\"Gtiff\",\n",
    "    \"height\":out_image.shape[1], # height starts with shape[1]\n",
    "    \"width\":out_image.shape[2], # width starts with shape[2]\n",
    "    \"transform\":out_transform\n",
    "})\n",
    "\n",
    "with rasterio.open(outRas,'w',**out_meta) as dst:\n",
    "    dst.write(out_image)"
   ]
  },
  {
   "cell_type": "code",
   "execution_count": null,
   "id": "327a609b",
   "metadata": {},
   "outputs": [],
   "source": []
  }
 ],
 "metadata": {
  "kernelspec": {
   "display_name": "Python 3 (ipykernel)",
   "language": "python",
   "name": "python3"
  },
  "language_info": {
   "codemirror_mode": {
    "name": "ipython",
    "version": 3
   },
   "file_extension": ".py",
   "mimetype": "text/x-python",
   "name": "python",
   "nbconvert_exporter": "python",
   "pygments_lexer": "ipython3",
   "version": "3.9.16"
  }
 },
 "nbformat": 4,
 "nbformat_minor": 5
}
