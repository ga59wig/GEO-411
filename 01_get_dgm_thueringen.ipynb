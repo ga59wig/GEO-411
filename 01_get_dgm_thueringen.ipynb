{
 "cells": [
  {
   "cell_type": "code",
   "execution_count": 2,
   "id": "424bf49c",
   "metadata": {},
   "outputs": [],
   "source": [
    "import urllib.request\n",
    "import zipfile\n",
    "import os\n",
    "import pandas as pd\n",
    "import xarray as xr\n",
    "import rioxarray\n",
    "\n",
    "df = pd.read_csv(r'C:\\Uni Jena\\GEO 411\\Data\\DGM\\Thueringen\\tiles.csv')\n",
    "\n",
    "Speicherort_2014_2019 = 'C:/Uni Jena/GEO 411/Data/DGM/Thueringen/2014_2019/'\n",
    "Speicherort_2010_2013 = 'C:/Uni Jena/GEO 411/Data/DGM/Thueringen/2010_2013/'\n",
    "Speicherort_2020_2025 = 'C:/Uni Jena/GEO 411/Data/DGM/Thueringen/2020_2025/'\n",
    "Kachelnummern = list(df['NAME'])"
   ]
  },
  {
   "cell_type": "code",
   "execution_count": 6,
   "id": "2f954105",
   "metadata": {},
   "outputs": [],
   "source": [
    "#2010-2013\n",
    "for Kachelnummer in Kachelnummern:\n",
    "    \n",
    "    urllib.request.urlretrieve('https://geoportal.geoportal-th.de/hoehendaten/DGM/dgm_2010-2013/dgm2_'+Kachelnummer+'_1_th_2010-2013.zip', Speicherort_2010_2013+'dgm2_'+Kachelnummer+'_1_th_2010-2013.zip')\n",
    "    with zipfile.ZipFile(Speicherort_2010_2013+'dgm2_'+Kachelnummer+'_1_th_2010-2013.zip', 'r') as zip_ref:\n",
    "        zip_ref.extractall(Speicherort_2010_2013)\n",
    "    os.remove(Speicherort_2010_2013+'dgm2_'+Kachelnummer+'_1_th_2010-2013.zip')\n",
    "    Eingabepfad = Speicherort_2010_2013+'dgm2_'+Kachelnummer+'_1_th_2010-2013.xyz'\n",
    "    Ausgabepfad = Speicherort_2010_2013+'dgm2_'+Kachelnummer+'_1_th_2010-2013.tif'\n",
    "\n",
    "    df  = pd.read_table(Eingabepfad, skiprows=2, delim_whitespace=True, names=['x', 'y', 'z'])\n",
    "    da = df.set_index(['y', 'x']).to_xarray()\n",
    "\n",
    "    # promote the data variables model lat/long to 2d coordinates\n",
    "    da = da.set_coords(['y', 'x'])\n",
    "    da.z.rio.to_raster(Ausgabepfad)\n",
    "    os.remove(Speicherort_2010_2013+'dgm2_'+Kachelnummer+'_1_th_2010-2013.meta')\n",
    "    os.remove(Speicherort_2010_2013+'dgm2_'+Kachelnummer+'_1_th_2010-2013.xyz')"
   ]
  },
  {
   "cell_type": "code",
   "execution_count": null,
   "id": "05d98ff8",
   "metadata": {},
   "outputs": [],
   "source": []
  },
  {
   "cell_type": "code",
   "execution_count": 8,
   "id": "d7dc0206",
   "metadata": {},
   "outputs": [],
   "source": [
    "#2014-2019\n",
    "for Kachelnummer in Kachelnummern:\n",
    "    urllib.request.urlretrieve('https://geoportal.geoportal-th.de/hoehendaten/DGM/dgm_2014-2019/dgm1_'+Kachelnummer+'_1_th_2014-2019.zip', Speicherort_2014_2019+'dgm1_'+Kachelnummer+'_1_th_2014-2019.zip')\n",
    "    with zipfile.ZipFile(Speicherort_2014_2019+'dgm1_'+Kachelnummer+'_1_th_2014-2019.zip', 'r') as zip_ref:\n",
    "        zip_ref.extractall(Speicherort_2014_2019)\n",
    "    os.remove(Speicherort_2014_2019+'dgm1_'+Kachelnummer+'_1_th_2014-2019.zip')\n",
    "    Eingabepfad = Speicherort_2014_2019+'dgm1_'+Kachelnummer+'_1_th_2014-2019.xyz'\n",
    "    Ausgabepfad = Speicherort_2014_2019+'dgm1_'+Kachelnummer+'_1_th_2014-2019.tif'\n",
    "\n",
    "    df  = pd.read_table(Eingabepfad, skiprows=2, delim_whitespace=True, names=['x', 'y', 'z'])\n",
    "    da = df.set_index(['y', 'x']).to_xarray()\n",
    "\n",
    "    # promote the data variables model lat/long to 2d coordinates\n",
    "    da = da.set_coords(['y', 'x'])\n",
    "    da.z.rio.to_raster(Ausgabepfad)\n",
    "    os.remove(Speicherort_2014_2019+'dgm1_'+Kachelnummer+'_1_th_2014-2019.meta')\n",
    "    os.remove(Speicherort_2014_2019+'dgm1_'+Kachelnummer+'_1_th_2014-2019.xyz')\n"
   ]
  },
  {
   "cell_type": "code",
   "execution_count": null,
   "id": "1f7d8338",
   "metadata": {},
   "outputs": [],
   "source": [
    "#2020-2025 funktioniert nicht, noch im Aufbau\n",
    "\n",
    "for Kachelnummer in Kachelnummern:\n",
    "    try:\n",
    "        #https://geoportal.geoportal-th.de/hoehendaten/DGM/dgm_2020-2025/dgm1_32_678_5610_1_th_2020-2025.zip\n",
    "        urllib.request.urlretrieve('https://geoportal.geoportal-th.de/hoehendaten/DGM/dgm_2020-2025/dgm1_32_'+Kachelnummer+'_1_th_2020-2025.zip', Speicherort_2020_2025+'dgm1_32_'+Kachelnummer+'_1_th_2020-2025.zip')\n",
    "        with zipfile.ZipFile(Speicherort_2020_2025+'dgm1_32_'+Kachelnummer+'_1_th_2020-2025.zip', 'r') as zip_ref:\n",
    "            zip_ref.extractall(Speicherort_2020_2025)\n",
    "        os.remove(Speicherort_2020_2025+'dgm1_32'+Kachelnummer+'_1_th_2020-2025.zip')\n",
    "        Eingabepfad = Speicherort_2020_2025+'dgm1_32_'+Kachelnummer+'_1_th_2020-2025.xyz'\n",
    "        Ausgabepfad = Speicherort_2020_2025+'dgm1_32_'+Kachelnummer+'_1_th_2020-2025.tif'\n",
    "\n",
    "        df  = pd.read_table(Eingabepfad, skiprows=2, delim_whitespace=True, names=['x', 'y', 'z'])\n",
    "        da = df.set_index(['y', 'x']).to_xarray()\n",
    "\n",
    "        # promote the data variables model lat/long to 2d coordinates\n",
    "        da = da.set_coords(['y', 'x'])\n",
    "        da.z.rio.to_raster(Ausgabepfad)\n",
    "        #os.remove(Speicherort_2020_2025+'dgm1_32_'+Kachelnummer+'_1_th_2020-2025.meta')\n",
    "        #os.remove(Speicherort_2020_2025+'dgm1_32_'+Kachelnummer+'_1_th_2020-2025.xyz')\n",
    "    except:\n",
    "        pass"
   ]
  },
  {
   "cell_type": "code",
   "execution_count": 4,
   "id": "d29e7f56",
   "metadata": {},
   "outputs": [
    {
     "data": {
      "text/plain": [
       "'561_5609'"
      ]
     },
     "execution_count": 4,
     "metadata": {},
     "output_type": "execute_result"
    }
   ],
   "source": [
    "Kachelnummern[0]"
   ]
  },
  {
   "cell_type": "code",
   "execution_count": 15,
   "id": "7b5953da",
   "metadata": {},
   "outputs": [],
   "source": [
    "#for 2020-2025 tiles are not complete\n",
    "for Kachelnummer in Kachelnummern:\n",
    "    try:\n",
    "        #https://geoportal.geoportal-th.de/hoehendaten/DGM/dgm_2020-2025/dgm1_32_678_5610_1_th_2020-2025.zip\n",
    "        urllib.request.urlretrieve('https://geoportal.geoportal-th.de/hoehendaten/DGM/dgm_2020-2025/dgm1_32_'+Kachelnummer+'_1_th_2020-2025.zip', Speicherort_2020_2025+'dgm1_32_'+Kachelnummer+'_1_th_2020-2025.zip')\n",
    "        with zipfile.ZipFile(Speicherort_2020_2025+'dgm1_32_'+Kachelnummer+'_1_th_2020-2025.zip', 'r') as zip_ref:\n",
    "            zip_ref.extractall(Speicherort_2020_2025)\n",
    "        os.remove(Speicherort_2020_2025+'dgm1_32_'+Kachelnummer+'_1_th_2020-2025.zip')\n",
    "        Eingabepfad = Speicherort_2020_2025+'dgm1_32_'+Kachelnummer+'_1_th_2020-2025.xyz'\n",
    "        Ausgabepfad = Speicherort_2020_2025+'dgm1_32_'+Kachelnummer+'_1_th_2020-2025.tif'\n",
    "\n",
    "        df  = pd.read_table(Eingabepfad, skiprows=2, delim_whitespace=True, names=['x', 'y', 'z'])\n",
    "        da = df.set_index(['y', 'x']).to_xarray()\n",
    "\n",
    "        # promote the data variables model lat/long to 2d coordinates\n",
    "        da = da.set_coords(['y', 'x'])\n",
    "        da.z.rio.to_raster(Ausgabepfad)\n",
    "        os.remove(Speicherort_2020_2025+'dgm1_32_'+Kachelnummer+'_1_th_2020-2025.meta')\n",
    "        os.remove(Speicherort_2020_2025+'dgm1_32_'+Kachelnummer+'_1_th_2020-2025.xyz')\n",
    "    except:\n",
    "        pass"
   ]
  }
 ],
 "metadata": {
  "kernelspec": {
   "display_name": "Python 3 (ipykernel)",
   "language": "python",
   "name": "python3"
  },
  "language_info": {
   "codemirror_mode": {
    "name": "ipython",
    "version": 3
   },
   "file_extension": ".py",
   "mimetype": "text/x-python",
   "name": "python",
   "nbconvert_exporter": "python",
   "pygments_lexer": "ipython3",
   "version": "3.9.16"
  }
 },
 "nbformat": 4,
 "nbformat_minor": 5
}
