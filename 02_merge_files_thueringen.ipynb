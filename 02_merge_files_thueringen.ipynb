{
 "cells": [
  {
   "cell_type": "code",
   "execution_count": 6,
   "id": "743c61e6",
   "metadata": {},
   "outputs": [],
   "source": [
    "import glob\n",
    "from osgeo import gdal\n",
    "import pandas as pd\n",
    "import re"
   ]
  },
  {
   "cell_type": "code",
   "execution_count": 7,
   "id": "6f3ba92d",
   "metadata": {},
   "outputs": [],
   "source": [
    "#this df was derived from the original shapefile of the AOI in thuringia\n",
    "df = pd.read_csv(r'C:\\Uni Jena\\GEO 411\\Data\\DGM\\Thueringen\\AOI_tiles.csv')\n",
    "tiles = list(df['NAME'])\n",
    "\n",
    "def Filter(string, substr):\n",
    "    return [str for str in string if\n",
    "             any(sub in str for sub in substr)]"
   ]
  },
  {
   "cell_type": "code",
   "execution_count": 1,
   "id": "37dae315",
   "metadata": {},
   "outputs": [],
   "source": [
    "def merge_tiles(path):\n",
    "    files = glob.glob(path + '*.tif')\n",
    "    files = [x.replace('\\\\', '/') for x in files]\n",
    "    files = [i for i in files if i.endswith('.tif') and (i.endswith('2014-2019.tif') or i.endswith('2010-2013.tif') or len(i)==12)]\n",
    "    files = list(Filter(files, tiles))\n",
    "    g = gdal.Warp(path+\"merged_result.tif\", files, format=\"GTiff\",\n",
    "                  options=[\"COMPRESS=LZW\", \"TILED=YES\"]) # if you want\n",
    "    g = None # Close file and flush to disk"
   ]
  },
  {
   "cell_type": "code",
   "execution_count": 10,
   "id": "bf375f2f",
   "metadata": {},
   "outputs": [],
   "source": [
    "def merge_tiles_TWI(path):\n",
    "    files = glob.glob(path + '*TWI_dgm1_thuer.tif')\n",
    "    files = [x.replace('\\\\', '/') for x in files]\n",
    "\n",
    "    files = list(Filter(files, tiles))\n",
    "    g = gdal.Warp(path+\"merged_result_TWI.tiff\", files, format=\"GTiff\",\n",
    "                  options=[\"COMPRESS=LZW\", \"TILED=YES\"]) # if you want\n",
    "    g = None # Close file and flush to disk"
   ]
  },
  {
   "cell_type": "code",
   "execution_count": null,
   "id": "7a15e673",
   "metadata": {},
   "outputs": [],
   "source": []
  },
  {
   "cell_type": "code",
   "execution_count": 29,
   "id": "6ee6af0d",
   "metadata": {},
   "outputs": [],
   "source": [
    "#merge_tiles('C:/Uni Jena/GEO 411/Data/DGM/Unterfranken/TIF/')"
   ]
  },
  {
   "cell_type": "code",
   "execution_count": 4,
   "id": "7f00d4b5",
   "metadata": {},
   "outputs": [],
   "source": [
    "merge_tiles('C:/Uni Jena/GEO 411/Data/DGM/Thueringen/2010_2013/')"
   ]
  },
  {
   "cell_type": "code",
   "execution_count": null,
   "id": "6df036ca",
   "metadata": {},
   "outputs": [],
   "source": [
    "merge_tiles('C:/Uni Jena/GEO 411/Data/DGM/Thueringen/2014_2019/')"
   ]
  },
  {
   "cell_type": "code",
   "execution_count": 4,
   "id": "b5b5bfba",
   "metadata": {},
   "outputs": [],
   "source": [
    "#merge_tiles('C:/Uni Jena/GEO 411/Data/DGM/Thueringen/2020_2025/')"
   ]
  },
  {
   "cell_type": "code",
   "execution_count": 11,
   "id": "c306f300",
   "metadata": {},
   "outputs": [],
   "source": [
    "merge_tiles_TWI('C:/Uni Jena/GEO 411/Data/DGM/Thueringen/2014_2019/')"
   ]
  },
  {
   "cell_type": "code",
   "execution_count": null,
   "id": "274f814c",
   "metadata": {},
   "outputs": [],
   "source": []
  },
  {
   "cell_type": "code",
   "execution_count": null,
   "id": "e28ccefa",
   "metadata": {},
   "outputs": [],
   "source": []
  },
  {
   "cell_type": "code",
   "execution_count": null,
   "id": "0e697c65",
   "metadata": {},
   "outputs": [],
   "source": []
  }
 ],
 "metadata": {
  "kernelspec": {
   "display_name": "Python 3 (ipykernel)",
   "language": "python",
   "name": "python3"
  },
  "language_info": {
   "codemirror_mode": {
    "name": "ipython",
    "version": 3
   },
   "file_extension": ".py",
   "mimetype": "text/x-python",
   "name": "python",
   "nbconvert_exporter": "python",
   "pygments_lexer": "ipython3",
   "version": "3.9.16"
  }
 },
 "nbformat": 4,
 "nbformat_minor": 5
}
